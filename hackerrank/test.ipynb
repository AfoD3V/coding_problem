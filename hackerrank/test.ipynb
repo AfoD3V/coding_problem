{
 "cells": [
  {
   "cell_type": "code",
   "execution_count": 3,
   "metadata": {},
   "outputs": [
    {
     "name": "stdout",
     "output_type": "stream",
     "text": [
      "['2', '3', '4']\n"
     ]
    }
   ],
   "source": [
    "N = int(input())\n",
    "input_lst = [input() for _ in range(N)]\n",
    "print(input_lst)"
   ]
  },
  {
   "cell_type": "code",
   "execution_count": 4,
   "metadata": {},
   "outputs": [
    {
     "data": {
      "text/plain": [
       "529344067295497451"
      ]
     },
     "execution_count": 4,
     "metadata": {},
     "output_type": "execute_result"
    }
   ],
   "source": [
    "tuple_ = (1, 2, 3)\n",
    "hash(tuple_)"
   ]
  },
  {
   "cell_type": "code",
   "execution_count": 6,
   "metadata": {},
   "outputs": [
    {
     "name": "stdout",
     "output_type": "stream",
     "text": [
      "['1', '2', '3', '4', '5']\n"
     ]
    }
   ],
   "source": [
    "lst = [1, 2, 3, 4, 5]\n",
    "x = list(map(str, lst))\n",
    "print(x)"
   ]
  },
  {
   "cell_type": "code",
   "execution_count": 7,
   "metadata": {},
   "outputs": [
    {
     "name": "stdout",
     "output_type": "stream",
     "text": [
      "[1, 2, 3, 4, 5]\n"
     ]
    }
   ],
   "source": [
    "integer_list = list(map(int, input().split()))\n",
    "print(integer_list)"
   ]
  },
  {
   "cell_type": "code",
   "execution_count": 8,
   "metadata": {},
   "outputs": [
    {
     "name": "stdout",
     "output_type": "stream",
     "text": [
      "[2, 4, 6, 8, 10]\n"
     ]
    }
   ],
   "source": [
    "def multiply(n):\n",
    "    return n * 2\n",
    "\n",
    "lst = [1, 2, 3, 4, 5]\n",
    "mult_lst = list(map(multiply, lst))\n",
    "print(mult_lst)"
   ]
  },
  {
   "cell_type": "code",
   "execution_count": 9,
   "metadata": {},
   "outputs": [
    {
     "name": "stdout",
     "output_type": "stream",
     "text": [
      "[2, 4, 6, 8, 10]\n"
     ]
    }
   ],
   "source": [
    "lst = [1, 2, 3, 4, 5]\n",
    "mult_lst = list(map(lambda a: a * 2, lst))\n",
    "print(mult_lst)"
   ]
  },
  {
   "cell_type": "code",
   "execution_count": 3,
   "metadata": {},
   "outputs": [
    {
     "name": "stdout",
     "output_type": "stream",
     "text": [
      "[(1, 2, 3), (1, 2, 3), (1, 2, 3)]\n"
     ]
    }
   ],
   "source": [
    "args = [[1, 1, 1], [2, 2, 2], [3, 3, 3]]\n",
    "mult_lst = list(map(lambda a: a, zip(*args)))\n",
    "print(mult_lst)"
   ]
  },
  {
   "cell_type": "code",
   "execution_count": 20,
   "metadata": {},
   "outputs": [
    {
     "data": {
      "text/plain": [
       "'oLA lA'"
      ]
     },
     "execution_count": 20,
     "metadata": {},
     "output_type": "execute_result"
    }
   ],
   "source": [
    "def swap_case(s):\n",
    "    return s.swapcase()\n",
    "\n",
    "str_ = \"Ola La\"\n",
    "\n",
    "swap_case(str_)"
   ]
  },
  {
   "cell_type": "code",
   "execution_count": 23,
   "metadata": {},
   "outputs": [
    {
     "data": {
      "text/plain": [
       "3"
      ]
     },
     "execution_count": 23,
     "metadata": {},
     "output_type": "execute_result"
    }
   ],
   "source": [
    "str_ = \"kotasdkotasdkot\"\n",
    "str_.count(\"kot\")"
   ]
  },
  {
   "cell_type": "code",
   "execution_count": 29,
   "metadata": {},
   "outputs": [
    {
     "name": "stdout",
     "output_type": "stream",
     "text": [
      "4\n"
     ]
    }
   ],
   "source": [
    "a = 2\n",
    "print(f\"Fast calculation {lambda a: a * 2}\".format(a))"
   ]
  },
  {
   "cell_type": "code",
   "execution_count": 32,
   "metadata": {},
   "outputs": [
    {
     "data": {
      "text/plain": [
       "'this-is-a-secret'"
      ]
     },
     "execution_count": 32,
     "metadata": {},
     "output_type": "execute_result"
    }
   ],
   "source": [
    "# This is our super secret key:\n",
    "SECRET = 'this-is-a-secret'\n",
    "\n",
    "class Error:\n",
    "      def __init__(self):\n",
    "          pass\n",
    "\n",
    "# A malicious user can craft a format string that\n",
    "# can read data from the global namespace:\n",
    "user_input = '{error.__init__.__globals__[SECRET]}'\n",
    "\n",
    "# This allows them to exfiltrate sensitive information,\n",
    "# like the secret key:\n",
    "err = Error()\n",
    "user_input.format(error=err)"
   ]
  },
  {
   "cell_type": "code",
   "execution_count": 11,
   "metadata": {},
   "outputs": [
    {
     "data": {
      "text/plain": [
       "[False, False, False, False, False]"
      ]
     },
     "execution_count": 11,
     "metadata": {},
     "output_type": "execute_result"
    }
   ],
   "source": [
    "[False for _ in range(5)]"
   ]
  },
  {
   "cell_type": "code",
   "execution_count": 21,
   "metadata": {},
   "outputs": [
    {
     "name": "stdout",
     "output_type": "stream",
     "text": [
      "Al\n",
      "em\n",
      "am\n",
      "bo\n",
      "mb\n",
      "e\n"
     ]
    }
   ],
   "source": [
    "from textwrap import wrap\n",
    "s = \"Ale mam bombe\"\n",
    "x = s.replace(\" \", \"\")\n",
    "z = wrap(x, 2)\n",
    "\"\\n\".join(z)\n"
   ]
  },
  {
   "cell_type": "code",
   "execution_count": 48,
   "metadata": {},
   "outputs": [
    {
     "name": "stdout",
     "output_type": "stream",
     "text": [
      "---###---\n"
     ]
    }
   ],
   "source": [
    "print(\"###\".center(9, \"-\"))\n"
   ]
  },
  {
   "cell_type": "code",
   "execution_count": 27,
   "metadata": {},
   "outputs": [
    {
     "name": "stdout",
     "output_type": "stream",
     "text": [
      "---------.|.---------\n",
      "------.|..|..|.------\n",
      "---.|..|..|..|..|.---\n",
      ".|..|..|..|..|..|..|.\n",
      "4\n",
      "-------WELCOME-------\n",
      "---.|..|..|..|..|.---\n",
      "------.|..|..|.------\n"
     ]
    }
   ],
   "source": [
    "height, width = 7, 21\n",
    "step = 1\n",
    "for i in range(height):\n",
    "    if i < int(height / 2):\n",
    "        print((\".|.\" * step).center(width, \"-\"))\n",
    "        step += 2\n",
    "    elif i == int(height / 2 + 1):\n",
    "        print(int(height / 2 + 1))\n",
    "        print(\"WELCOME\".center(width, \"-\"))\n",
    "    else:\n",
    "        print((\".|.\" * step).center(width, \"-\"))\n",
    "        step -= 2"
   ]
  }
 ],
 "metadata": {
  "kernelspec": {
   "display_name": "academy",
   "language": "python",
   "name": "python3"
  },
  "language_info": {
   "codemirror_mode": {
    "name": "ipython",
    "version": 3
   },
   "file_extension": ".py",
   "mimetype": "text/x-python",
   "name": "python",
   "nbconvert_exporter": "python",
   "pygments_lexer": "ipython3",
   "version": "3.9.13"
  },
  "orig_nbformat": 4,
  "vscode": {
   "interpreter": {
    "hash": "1f5f83e80df12045276026ee04c95eed044320816b7e6d6730b42902ad0339e5"
   }
  }
 },
 "nbformat": 4,
 "nbformat_minor": 2
}
